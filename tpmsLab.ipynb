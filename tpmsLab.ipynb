{
 "cells": [
  {
   "attachments": {},
   "cell_type": "markdown",
   "metadata": {},
   "source": [
    "Подключение библиотек."
   ]
  },
  {
   "cell_type": "code",
   "execution_count": 1,
   "metadata": {},
   "outputs": [],
   "source": [
    "%matplotlib inline\n",
    "import numpy as np\n",
    "from scipy.stats import multivariate_normal\n",
    "from scipy.spatial.distance import mahalanobis\n",
    "from matplotlib import pyplot as plt\n",
    "import pandas as pd\n",
    "from scipy.stats import expon\n",
    "from scipy.stats import norm"
   ]
  },
  {
   "attachments": {},
   "cell_type": "markdown",
   "metadata": {},
   "source": [
    "Ввод данных."
   ]
  },
  {
   "cell_type": "code",
   "execution_count": 2,
   "metadata": {},
   "outputs": [],
   "source": [
    "data = [0.0436794, 0.166035, 0.0604577, 0.0962837, 0.023529, 0.11326, \\\n",
    "0.404622, 0.354139, 0.308872, 0.032605, 0.098301, 0.426906, 0.434665, \\\n",
    "0.35626, 1.90448, 0.818334, 0.486652, 1.59797, 0.0825811, 0.254232, \\\n",
    "0.220093, 0.251865, 0.368748, 1.8966, 0.752856, 0.378332, 0.944809, \\\n",
    "0.994282, 0.061186, 0.000524252, 0.0606311, 0.0729079, 1.07185, \\\n",
    "1.43861, 0.60779, 1.02583, 1.0875, 0.27009, 0.0328377, 0.791727, \\\n",
    "0.247701, 0.00471008, 0.0103316, 0.185637, 0.113057, 0.716332, \\\n",
    "1.05568, 0.207986, 0.887598, 0.535853, 0.876685, 0.315642, 0.0141932, \\\n",
    "0.0937924, 0.305066, 0.202327, 0.524695, 0.00939518, 0.516412, \\\n",
    "0.620611, 0.0967764, 0.0163088, 0.316691, 0.336694, 0.229255, \\\n",
    "0.826508, 0.276018, 0.243225, 1.26453, 0.955482, 0.491383, 0.182187, \\\n",
    "0.128007, 0.170854, 0.424113, 0.0838754, 0.137054, 0.131947, \\\n",
    "0.504065, 0.0496643, 0.171981, 0.784873, 0.95644, 0.575638, \\\n",
    "0.0665862, 0.16751, 0.379834, 0.228268, 0.388329, 0.94044, 0.0440389, \\\n",
    "0.303095, 0.36334, 1.14763, 0.213201, 0.396905, 0.250873, 0.150599, \\\n",
    "0.2895, 1.16509, 0.265498, 0.560802, 0.363842, 0.0354809, 0.0287385, \\\n",
    "0.404331, 0.117715, 0.205864, 0.0535385, 0.443829, 0.0955239, \\\n",
    "0.0435538, 0.101079, 0.653438, 0.908184, 0.583681, 0.200702, \\\n",
    "0.214355, 0.0032679, 0.0244118, 0.329929, 0.499287, 0.420374, \\\n",
    "0.0851347, 0.175401, 0.177086, 0.106934, 0.023994, 0.00586, 0.123103, \\\n",
    "0.316923, 0.367377, 0.418499, 0.356524, 0.376066, 0.0201693, \\\n",
    "0.389433, 0.230155, 0.579766, 0.896395, 0.218018, 0.0531565, \\\n",
    "0.317389, 0.370752, 0.371218, 0.375285, 0.677023, 0.0246592, \\\n",
    "0.345195, 0.0115658, 0.814462, 0.00657833, 0.176033, 0.612912, \\\n",
    "0.319484, 0.129894, 0.532801, 0.0571202, 0.0425041, 0.669363, \\\n",
    "0.499122, 0.544739, 0.201162, 0.332702, 0.440401, 0.538023, 0.125401, \\\n",
    "1.08728, 0.423711, 0.903539, 0.221519, 0.11238, 0.158885, 0.963678, \\\n",
    "0.280555, 0.48023, 0.288202, 0.100392, 0.129658, 0.0755764, 0.126633, \\\n",
    "0.0142448, 0.518066, 0.535232, 0.0371798, 0.574612, 0.147001, \\\n",
    "0.30566, 0.275454, 0.320081, 0.0720025, 0.00208185, 0.245711, \\\n",
    "0.215984, 1.04385, 0.240841, 0.584268, 0.79101, 0.0847973, 0.982576\n",
    "]"
   ]
  },
  {
   "attachments": {},
   "cell_type": "markdown",
   "metadata": {},
   "source": [
    "Задание 1. Построение гистограммы по правилу Стерджеса."
   ]
  },
  {
   "cell_type": "code",
   "execution_count": 3,
   "metadata": {},
   "outputs": [
    {
     "data": {
      "image/png": "[encoded data removed]",
      "text/plain": [
       "<Figure size 640x480 with 1 Axes>"
      ]
     },
     "metadata": {},
     "output_type": "display_data"
    }
   ],
   "source": [
    "plt.hist(data, \"sturges\")\n",
    "plt.show()"
   ]
  },
  {
   "attachments": {},
   "cell_type": "markdown",
   "metadata": {},
   "source": [
    "Ищем тетта с крышкой для нормального распределения "
   ]
  },
  {
   "cell_type": "code",
   "execution_count": 9,
   "metadata": {},
   "outputs": [
    {
     "data": {
      "text/plain": [
       "(0.38020772696, 0.25)"
      ]
     },
     "execution_count": 9,
     "metadata": {},
     "output_type": "execute_result"
    }
   ],
   "source": [
    "tetta_0 = norm.fit(data, fscale = 0.25) \n",
    "tetta_0"
   ]
  },
  {
   "attachments": {},
   "cell_type": "markdown",
   "metadata": {},
   "source": [
    "Ищем тетта с крышкой для экспоненциального распределения"
   ]
  },
  {
   "cell_type": "code",
   "execution_count": 14,
   "metadata": {},
   "outputs": [
    {
     "data": {
      "text/plain": [
       "(-1.0, 1.38020772696)"
      ]
     },
     "execution_count": 14,
     "metadata": {},
     "output_type": "execute_result"
    }
   ],
   "source": [
    "tetta_1 = expon.fit(data, floc = 0) \n",
    "tetta_1"
   ]
  }
 ],
 "metadata": {
  "kernelspec": {
   "display_name": "Python 3",
   "language": "python",
   "name": "python3"
  },
  "language_info": {
   "codemirror_mode": {
    "name": "ipython",
    "version": 3
   },
   "file_extension": ".py",
   "mimetype": "text/x-python",
   "name": "python",
   "nbconvert_exporter": "python",
   "pygments_lexer": "ipython3",
   "version": "3.10.4"
  },
  "orig_nbformat": 4,
  "vscode": {
   "interpreter": {
    "hash": "e3c85b355db7f96d2ca54b38a8b52e6fb51cda4c0381fcb2ba1c8b1446fae950"
   }
  }
 },
 "nbformat": 4,
 "nbformat_minor": 2
}
